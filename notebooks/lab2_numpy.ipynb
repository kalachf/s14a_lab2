{
 "cells": [
  {
   "cell_type": "markdown",
   "metadata": {
    "collapsed": true,
    "pycharm": {
     "name": "#%% md\n"
    }
   },
   "source": [
    "## S14a: Lab 2 - Numpy\n",
    "\n",
    "Below is quick quickstart with numpy, designed to give new users a sense of how the library works. There is so much more functionality, and developers have provided an incredible [tutorial](https://numpy.org/devdocs/user/quickstart.html) for anyone ready for a deeper dive.\n",
    "\n",
    "Also for need X need guidance, take a look at the [reference](https://numpy.org/doc/1.18/reference/index.html)."
   ]
  },
  {
   "cell_type": "markdown",
   "metadata": {},
   "source": [
    "### The basics: 1D and 2D arrays"
   ]
  },
  {
   "cell_type": "code",
   "execution_count": 136,
   "metadata": {},
   "outputs": [],
   "source": [
    "# Import numpy\n",
    "import numpy as np"
   ]
  },
  {
   "cell_type": "code",
   "execution_count": 137,
   "metadata": {},
   "outputs": [
    {
     "name": "stdout",
     "output_type": "stream",
     "text": [
      "Requirement already satisfied: numpy in c:\\programdata\\anaconda3\\envs\\labenv\\lib\\site-packages (1.19.0)\n"
     ]
    }
   ],
   "source": [
    "!pip install numpy"
   ]
  },
  {
   "cell_type": "code",
   "execution_count": 138,
   "metadata": {},
   "outputs": [
    {
     "data": {
      "text/plain": [
       "array([1, 2, 3])"
      ]
     },
     "execution_count": 138,
     "metadata": {},
     "output_type": "execute_result"
    }
   ],
   "source": [
    "# Build a one dimensional (1D) numpy array directly\n",
    "\n",
    "numpy_1d = np.array([1, 2, 3])\n",
    "numpy_1d"
   ]
  },
  {
   "cell_type": "code",
   "execution_count": 139,
   "metadata": {},
   "outputs": [
    {
     "data": {
      "text/plain": [
       "1"
      ]
     },
     "execution_count": 139,
     "metadata": {},
     "output_type": "execute_result"
    }
   ],
   "source": [
    "# Take a look at 1D dimensionality\n",
    "\n",
    "np.ndim(numpy_1d)"
   ]
  },
  {
   "cell_type": "code",
   "execution_count": 140,
   "metadata": {},
   "outputs": [
    {
     "data": {
      "text/plain": [
       "(3,)"
      ]
     },
     "execution_count": 140,
     "metadata": {},
     "output_type": "execute_result"
    }
   ],
   "source": [
    "# Take a look at 1D shape - (length, \n",
    "\n",
    "np.shape(numpy_1d)"
   ]
  },
  {
   "cell_type": "code",
   "execution_count": 141,
   "metadata": {},
   "outputs": [
    {
     "data": {
      "text/plain": [
       "1"
      ]
     },
     "execution_count": 141,
     "metadata": {},
     "output_type": "execute_result"
    }
   ],
   "source": [
    "# Grab values at certain positions in 1D\n",
    "\n",
    "numpy_1d[0]"
   ]
  },
  {
   "cell_type": "code",
   "execution_count": 142,
   "metadata": {},
   "outputs": [
    {
     "data": {
      "text/plain": [
       "array([[4, 5, 6],\n",
       "       [7, 8, 9]])"
      ]
     },
     "execution_count": 142,
     "metadata": {},
     "output_type": "execute_result"
    }
   ],
   "source": [
    "# Build a two dimensional (2D) numpy array - \"array of arrays\"\n",
    "\n",
    "numpy_2d = np.array([[4, 5, 6], [7, 8, 9]])\n",
    "numpy_2d"
   ]
  },
  {
   "cell_type": "code",
   "execution_count": 143,
   "metadata": {},
   "outputs": [
    {
     "data": {
      "text/plain": [
       "2"
      ]
     },
     "execution_count": 143,
     "metadata": {},
     "output_type": "execute_result"
    }
   ],
   "source": [
    "# Take a look at 2D dimensionality\n",
    "\n",
    "np.ndim(numpy_2d)"
   ]
  },
  {
   "cell_type": "code",
   "execution_count": 144,
   "metadata": {},
   "outputs": [
    {
     "data": {
      "text/plain": [
       "(2, 3)"
      ]
     },
     "execution_count": 144,
     "metadata": {},
     "output_type": "execute_result"
    }
   ],
   "source": [
    "# Take a look at a 2D shape - (#row, #col)\n",
    "np.shape(numpy_2d)"
   ]
  },
  {
   "cell_type": "code",
   "execution_count": 145,
   "metadata": {},
   "outputs": [
    {
     "name": "stdout",
     "output_type": "stream",
     "text": [
      "9\n",
      "6\n",
      "8\n"
     ]
    }
   ],
   "source": [
    "# !!!YOUR TURN!!!\n",
    "\n",
    "# Grab values at certain positions in 2D\n",
    "\n",
    "print(numpy_2d[1, 2])\n",
    "print(numpy_2d[0, 2])\n",
    "print(numpy_2d[1, 1])"
   ]
  },
  {
   "cell_type": "code",
   "execution_count": 146,
   "metadata": {},
   "outputs": [
    {
     "data": {
      "text/plain": [
       "array([8, 9])"
      ]
     },
     "execution_count": 146,
     "metadata": {},
     "output_type": "execute_result"
    }
   ],
   "source": [
    "# Slice out portions of the array\n",
    "\n",
    "numpy_2d[1, 1:3]"
   ]
  },
  {
   "cell_type": "code",
   "execution_count": 147,
   "metadata": {},
   "outputs": [
    {
     "data": {
      "text/plain": [
       "array([6, 7, 8, 9])"
      ]
     },
     "execution_count": 147,
     "metadata": {},
     "output_type": "execute_result"
    }
   ],
   "source": [
    "# Grab with condition\n",
    "numpy_2d[numpy_2d >= 6]"
   ]
  },
  {
   "cell_type": "code",
   "execution_count": 148,
   "metadata": {
    "pycharm": {
     "name": "#%%\n"
    }
   },
   "outputs": [
    {
     "data": {
      "text/plain": [
       "array([[4, 5],\n",
       "       [6, 7],\n",
       "       [8, 9]])"
      ]
     },
     "execution_count": 148,
     "metadata": {},
     "output_type": "execute_result"
    }
   ],
   "source": [
    "# Reshape your 3d array, reversing rows and cols\n",
    "\n",
    "numpy_2d.reshape(3, 2)"
   ]
  },
  {
   "cell_type": "markdown",
   "metadata": {
    "pycharm": {
     "name": "#%% md\n"
    }
   },
   "source": [
    "### Building / transforming arrays - selections"
   ]
  },
  {
   "cell_type": "code",
   "execution_count": 149,
   "metadata": {},
   "outputs": [
    {
     "data": {
      "text/plain": [
       "array([3, 6, 9])"
      ]
     },
     "execution_count": 149,
     "metadata": {},
     "output_type": "execute_result"
    }
   ],
   "source": [
    "# Build a numpy array using a range - (start at, up to, step size)\n",
    "\n",
    "np.arange(3, 10, 3)"
   ]
  },
  {
   "cell_type": "code",
   "execution_count": 150,
   "metadata": {},
   "outputs": [
    {
     "data": {
      "text/plain": [
       "array([ 3.,  6.,  9., 12., 15.])"
      ]
     },
     "execution_count": 150,
     "metadata": {},
     "output_type": "execute_result"
    }
   ],
   "source": [
    "# Build a numpy array using evenly spaced points in a range - (start at, up to, breakpoints)\n",
    "\n",
    "np.linspace(3, 15, 5)"
   ]
  },
  {
   "cell_type": "code",
   "execution_count": 151,
   "metadata": {},
   "outputs": [
    {
     "data": {
      "text/plain": [
       "array([0., 0., 0.])"
      ]
     },
     "execution_count": 151,
     "metadata": {},
     "output_type": "execute_result"
    }
   ],
   "source": [
    "# Create 1D array of 0s\n",
    "\n",
    "np.zeros(3)"
   ]
  },
  {
   "cell_type": "code",
   "execution_count": 152,
   "metadata": {},
   "outputs": [
    {
     "data": {
      "text/plain": [
       "array([[1., 1., 1.],\n",
       "       [1., 1., 1.],\n",
       "       [1., 1., 1.]])"
      ]
     },
     "execution_count": 152,
     "metadata": {},
     "output_type": "execute_result"
    }
   ],
   "source": [
    "# Create 2D arrayy of 1s\n",
    "\n",
    "np.ones((3, 3))"
   ]
  },
  {
   "cell_type": "code",
   "execution_count": 153,
   "metadata": {
    "pycharm": {
     "name": "#%%\n"
    }
   },
   "outputs": [
    {
     "data": {
      "text/plain": [
       "array([[660, 973, 331, 328, 135, 677, 611, 811, 803, 511],\n",
       "       [240, 126, 441, 899,  12, 299, 251, 852, 978, 570],\n",
       "       [417, 170,  15, 895, 506, 393, 700, 678, 383, 542],\n",
       "       [400, 339, 794, 819, 953, 661, 998, 141, 438, 443],\n",
       "       [262, 709, 256, 773, 924, 821, 873, 417, 844, 203],\n",
       "       [506, 647, 266, 418, 172, 261,  78, 142,  55, 490],\n",
       "       [214, 951, 783, 213,  28, 298, 303, 888, 952, 495],\n",
       "       [ 16, 273, 871, 290,  60, 600, 317, 586, 176, 521],\n",
       "       [613, 267, 697, 666, 828, 584, 743, 527, 669, 239],\n",
       "       [697, 624, 740, 419, 796, 442, 652, 342, 349, 318]])"
      ]
     },
     "execution_count": 153,
     "metadata": {},
     "output_type": "execute_result"
    }
   ],
   "source": [
    "# !!!YOUR TURN!!!\n",
    "\n",
    "# Create 2D array of random numbers\n",
    "#\n",
    "# you could just use numpy.random.choice with the argument replace=False, which ensures each element is not repeated:\n",
    "randC = np.stack([np.random.choice(range(999), 10, replace=False) for i in range(10)])\n",
    "randC\n"
   ]
  },
  {
   "cell_type": "code",
   "execution_count": 154,
   "metadata": {},
   "outputs": [
    {
     "data": {
      "text/plain": [
       "[12, 998]"
      ]
     },
     "execution_count": 154,
     "metadata": {},
     "output_type": "execute_result"
    }
   ],
   "source": [
    "# Get min and max\n",
    "[randC.min(), randC.max()]"
   ]
  },
  {
   "cell_type": "markdown",
   "metadata": {
    "pycharm": {
     "name": "#%% md\n"
    }
   },
   "source": [
    "### Math, [ref.](https://numpy.org/doc/1.18/reference/routines.math.html)"
   ]
  },
  {
   "cell_type": "code",
   "execution_count": 156,
   "metadata": {},
   "outputs": [
    {
     "name": "stdout",
     "output_type": "stream",
     "text": [
      "*. [[ 5. 12.]\n",
      " [21. 32.]]\n",
      "/. [[0.2        0.33333333]\n",
      " [0.42857143 0.5       ]]\n"
     ]
    }
   ],
   "source": [
    "# Multiplication / divide\n",
    "\n",
    "print('*.', np.multiply(npx, npy))\n",
    "print('/.', np.divide(npx, npy))\n"
   ]
  },
  {
   "cell_type": "code",
   "execution_count": 157,
   "metadata": {
    "pycharm": {
     "name": "#%%\n"
    }
   },
   "outputs": [
    {
     "name": "stdout",
     "output_type": "stream",
     "text": [
      "SQRT. [[1.         1.41421356]\n",
      " [1.73205081 2.        ]]\n",
      "Power. [[1.0000e+00 6.4000e+01]\n",
      " [2.1870e+03 6.5536e+04]]\n",
      "Negative. [[-1. -2.]\n",
      " [-3. -4.]]\n"
     ]
    }
   ],
   "source": [
    "# And other nice Math functions\n",
    "\n",
    "print('SQRT.', np.sqrt(npx))\n",
    "print('Power.', np.power(npx, npy))\n",
    "print('Negative.', np.negative(npx))"
   ]
  },
  {
   "cell_type": "code",
   "execution_count": 167,
   "metadata": {
    "pycharm": {
     "name": "#%%\n"
    }
   },
   "outputs": [
    {
     "name": "stdout",
     "output_type": "stream",
     "text": [
      "1: [[2.23606798 2.44948974]\n",
      " [2.64575131 2.82842712]]\n",
      "2: [[1.         1.41421356]\n",
      " [1.73205081 2.        ]]\n"
     ]
    }
   ],
   "source": [
    "# !!!YOUR TURN!!!\n",
    "\n",
    "# Path attention to the second argument - the axis\n",
    "print('1:', np.sqrt(npy))\n",
    "print('2:', np.sqrt(npx))"
   ]
  },
  {
   "cell_type": "code",
   "execution_count": 155,
   "metadata": {},
   "outputs": [
    {
     "name": "stdout",
     "output_type": "stream",
     "text": [
      "+. [[ 6.  8.]\n",
      " [10. 12.]]\n",
      "-. [[-4. -4.]\n",
      " [-4. -4.]]\n"
     ]
    }
   ],
   "source": [
    "# Addition / subtraction (you can define type)\n",
    "\n",
    "npx = np.array([[1, 2], [3, 4]], dtype=np.float64)\n",
    "npy = np.array([[5, 6], [7, 8]], dtype=np.float64)\n",
    "\n",
    "print('+.', np.add(npx, npy))\n",
    "print('-.', np.subtract(npx, npy))"
   ]
  },
  {
   "cell_type": "code",
   "execution_count": 159,
   "metadata": {
    "pycharm": {
     "name": "#%%\n"
    }
   },
   "outputs": [
    {
     "name": "stdout",
     "output_type": "stream",
     "text": [
      "[[ 2  2  4]\n",
      " [ 5  5  7]\n",
      " [ 8  8 10]\n",
      " [11 11 13]]\n"
     ]
    }
   ],
   "source": [
    "# Broadcasting - when performing mathematical operations, shape matters\n",
    "\n",
    "x = np.array([[1, 2, 3], [4, 5, 6], [7, 8, 9], [10, 11, 12]])\n",
    "v = np.array([1, 0, 1])\n",
    "y = np.empty_like(x)\n",
    "\n",
    "for i in range(len(x)):\n",
    "    y[i, :] = x[i, :] + v\n",
    "\n",
    "print(y)"
   ]
  },
  {
   "cell_type": "code",
   "execution_count": 160,
   "metadata": {
    "pycharm": {
     "name": "#%%\n"
    }
   },
   "outputs": [
    {
     "name": "stdout",
     "output_type": "stream",
     "text": [
      "[[ 2  2  4]\n",
      " [ 5  5  7]\n",
      " [ 8  8 10]\n",
      " [11 11 13]]\n",
      "[[-9999 -9999 -9999]\n",
      " [    5     5     7]\n",
      " [    8     8    10]\n",
      " [   11    11    13]]\n"
     ]
    }
   ],
   "source": [
    "# Copying - if you need your changes not to effect the original array, make a copy\n",
    "y_copy = y.copy()\n",
    "y_copy[0][0:] = -9999\n",
    "print(y)\n",
    "print(y_copy)"
   ]
  },
  {
   "cell_type": "code",
   "execution_count": 161,
   "metadata": {},
   "outputs": [],
   "source": [
    "# !!!YOUR TURN!!!\n",
    "\n",
    "# Path attention to the second argument - the axis\n",
    "\n"
   ]
  },
  {
   "cell_type": "code",
   "execution_count": 162,
   "metadata": {},
   "outputs": [],
   "source": [
    "# Broadcasting - when performing mathematical operations, shape matters\n",
    "\n",
    "x = np.array([[1, 2, 3], [4, 5, 6], [7, 8, 9], [10, 11, 12]])\n",
    "v = np.array([1, 0, 1])\n",
    "y = np.empty_like(x)\n",
    "\n",
    " "
   ]
  },
  {
   "cell_type": "code",
   "execution_count": 163,
   "metadata": {},
   "outputs": [
    {
     "name": "stdout",
     "output_type": "stream",
     "text": [
      "[[ 1  2  3]\n",
      " [ 4  5  6]\n",
      " [ 7  8  9]\n",
      " [10 11 12]]\n",
      "[[-9999 -9999 -9999]\n",
      " [    4     5     6]\n",
      " [    7     8     9]\n",
      " [   10    11    12]]\n"
     ]
    }
   ],
   "source": [
    "# Copying - if you need your changes not to effect the original array, make a copy\n",
    "y_copy = y.copy()\n",
    "y_copy[0][0:] = -9999\n",
    "print(y)\n",
    "print(y_copy)"
   ]
  },
  {
   "cell_type": "code",
   "execution_count": null,
   "metadata": {},
   "outputs": [],
   "source": []
  }
 ],
 "metadata": {
  "kernelspec": {
   "display_name": "Python 3",
   "language": "python",
   "name": "python3"
  },
  "language_info": {
   "codemirror_mode": {
    "name": "ipython",
    "version": 3
   },
   "file_extension": ".py",
   "mimetype": "text/x-python",
   "name": "python",
   "nbconvert_exporter": "python",
   "pygments_lexer": "ipython3",
   "version": "3.8.3"
  }
 },
 "nbformat": 4,
 "nbformat_minor": 1
}
